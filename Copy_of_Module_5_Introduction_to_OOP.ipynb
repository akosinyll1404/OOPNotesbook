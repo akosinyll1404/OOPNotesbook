{
  "cells": [
    {
      "cell_type": "markdown",
      "metadata": {
        "id": "IbJlje7gUCEE"
      },
      "source": [
        "## Intended Learning Outcomes\n",
        "At the end of this module, you should have and be able to do the following:\n",
        "1. Analyze the concepts of object-oriented programming using Python.\n",
        "2. Differentiate the OOP from classical and traditional\n",
        "3. Develop a program using class and object\n",
        "4. Understand the concepts of inheritance, abstraction, encapsulation, and polymorphism using Python\n",
        "5. Develop a program using different types of inheritance, abstraction, and encapsulation.\n",
        "6. Develop a program applying the concept of polymorphism.        \n",
        "        "
      ]
    },
    {
      "cell_type": "markdown",
      "metadata": {
        "id": "9rV6qquqUCEI"
      },
      "source": [
        "**Object Oriented Programming**\n",
        "\n",
        "Python is a multi-paradigm programming language. It supports different programming approaches.\n",
        "\n",
        "One of the popular approaches to solve a programming problem is by creating objects. This is known as Object-Oriented Programming (OOP).\n",
        "\n",
        "An object has two characteristics:\n",
        "1. attributes\n",
        "2. behavior\n",
        "\n",
        "Let's take an example:\n",
        "A parrot is can be an object,as it has the following properties:\n",
        "1. name, age, color as attributes\n",
        "2. singing, dancing as behavior\n",
        "\n",
        "The concept of OOP in Python focuses on creating reusable code. This concept is also known as DRY (Don't Repeat Yourself).\n",
        "\n",
        "In Python, the concept of OOP follows some basic principles:"
      ]
    },
    {
      "cell_type": "markdown",
      "metadata": {
        "id": "GWAQN44TUCEI"
      },
      "source": [
        "**Class**\n",
        "\n",
        "A class is a blueprint for the object.\n",
        "\n",
        "We can think of class as a sketch of a parrot with labels. It contains all the details about the name, colors, size etc. Based on these descriptions, we can study about the parrot. Here, a parrot is an object.\n",
        "\n",
        "The example for class of parrot can be:"
      ]
    },
    {
      "cell_type": "code",
      "execution_count": null,
      "metadata": {
        "id": "cU67fmqBUCEJ"
      },
      "outputs": [],
      "source": [
        "class Parrot:\n",
        "    pass"
      ]
    },
    {
      "cell_type": "markdown",
      "metadata": {
        "id": "EYQOctr7UCEK"
      },
      "source": [
        "Here, we use the class keyword to define an empty class Parrot. From class, we construct instances. An instance is a specific object created from a particular class."
      ]
    },
    {
      "cell_type": "markdown",
      "metadata": {
        "id": "c6lylLtPUCEK"
      },
      "source": [
        "**Object**\n",
        "\n",
        "An object (instance) is an instantiation of a class. When class is defined, only the description for the object is defined. Therefore, no memory or storage is allocated.\n",
        "\n",
        "The example for object of parrot class can be:"
      ]
    },
    {
      "cell_type": "code",
      "execution_count": null,
      "metadata": {
        "id": "nqvuyo1dUCEL"
      },
      "outputs": [],
      "source": [
        "obj = Parrot()"
      ]
    },
    {
      "cell_type": "markdown",
      "metadata": {
        "id": "f0A-JbeqUCEL"
      },
      "source": [
        "Here, obj is an object of class Parrot.\n",
        "\n",
        "Suppose we have details of parrots. Now, we are going to show how to build the class and objects of parrots."
      ]
    },
    {
      "cell_type": "code",
      "execution_count": null,
      "metadata": {
        "id": "whEbm8o0UCEM",
        "outputId": "902b08a2-777b-44a9-da4a-e58b3df4ddf6",
        "colab": {
          "base_uri": "https://localhost:8080/"
        }
      },
      "outputs": [
        {
          "output_type": "stream",
          "name": "stdout",
          "text": [
            "Blu is a bird\n",
            "Woo is also a bird\n",
            "Blu is 10 years old\n",
            "Woo is 15 years old\n"
          ]
        }
      ],
      "source": [
        "#Example 1: Creating Class and Object in Python\n",
        "\n",
        "class Parrot:\n",
        "    # class attribute\n",
        "    species = \"bird\"\n",
        "    # instance attribute\n",
        "    def __init__(self, name, age):\n",
        "        self.name = name\n",
        "        self.age = age\n",
        "\n",
        "# instantiate the Parrot class\n",
        "blu = Parrot(\"Blu\", 10)\n",
        "woo = Parrot(\"Woo\", 15)\n",
        "\n",
        "# access the class attributes\n",
        "print(\"Blu is a {}\".format(blu.__class__.species))\n",
        "print(\"Woo is also a {}\".format(woo.__class__.species))\n",
        "\n",
        "# access the instance attributes\n",
        "print(\"{} is {} years old\".format( blu.name, blu.age))\n",
        "print(\"{} is {} years old\".format( woo.name, woo.age))"
      ]
    },
    {
      "cell_type": "code",
      "source": [
        "class Person:\n",
        "    def __init__(self, name, age):\n",
        "        self.name = name\n",
        "        self.age = age\n",
        "person = Person('Jonathan', 49)\n",
        "print(person)\n",
        "print(\"{} is {} years old\".format( person.name, person.age))"
      ],
      "metadata": {
        "colab": {
          "base_uri": "https://localhost:8080/"
        },
        "id": "63a-1TUF2BIm",
        "outputId": "079377a9-16d7-442f-b382-74a95532e444"
      },
      "execution_count": null,
      "outputs": [
        {
          "output_type": "stream",
          "name": "stdout",
          "text": [
            "<__main__.Person object at 0x7f855f881a90>\n",
            "Jonathan is 49 years old\n"
          ]
        }
      ]
    },
    {
      "cell_type": "markdown",
      "metadata": {
        "id": "aZRCD3IOUCEN"
      },
      "source": [
        "**Methods**\n",
        "\n",
        "Methods are functions defined inside the body of a class. They are used to define the behaviors of an object."
      ]
    },
    {
      "cell_type": "code",
      "execution_count": null,
      "metadata": {
        "id": "JQFdP8rMUCEN",
        "outputId": "f0d5136a-a3eb-4de7-e4f3-f5ddcbb4b93b"
      },
      "outputs": [
        {
          "name": "stdout",
          "output_type": "stream",
          "text": [
            "Blu sings 'Happy'\n",
            "Blu is now dancing\n"
          ]
        }
      ],
      "source": [
        "# Creating Methods in Python\n",
        "class Parrot:\n",
        "    \n",
        "    # instance attributes\n",
        "    def __init__(self, name, age):\n",
        "        self.name = name\n",
        "        self.age = age\n",
        "    \n",
        "    # instance method\n",
        "    def sing(self, song):\n",
        "        return \"{} sings {}\".format(self.name, song)\n",
        "\n",
        "    def dance(self):\n",
        "        return \"{} is now dancing\".format(self.name)\n",
        "\n",
        "# instantiate the object\n",
        "blu = Parrot(\"Blu\", 10)\n",
        "\n",
        "# call our instance methods\n",
        "print(blu.sing(\"'Happy'\"))\n",
        "print(blu.dance())"
      ]
    },
    {
      "cell_type": "code",
      "source": [
        "class Person:\n",
        "    def __init__(self, name):\n",
        "        self.name = name\n",
        "\n",
        "    def say_hello(self):\n",
        "        print(f\"Hello, my name is {self.name}.\")\n"
      ],
      "metadata": {
        "id": "dDDTeiFJ5lVt"
      },
      "execution_count": null,
      "outputs": []
    },
    {
      "cell_type": "code",
      "source": [
        "person = Person(\"Alice\")\n",
        "person.say_hello()  # Output: Hello, my name is Alice.\n"
      ],
      "metadata": {
        "colab": {
          "base_uri": "https://localhost:8080/"
        },
        "id": "8Kj3fYoL521v",
        "outputId": "49387279-fea3-4283-e9f4-79b9b31aad54"
      },
      "execution_count": null,
      "outputs": [
        {
          "output_type": "stream",
          "name": "stdout",
          "text": [
            "Hello, my name is Alice.\n"
          ]
        }
      ]
    },
    {
      "cell_type": "markdown",
      "source": [
        "## 2 Types of Methods in OOP\n",
        "1. **Instance methods**: These are methods that are defined on a class and can be called on instances of that class. Instance methods have access to the instance variables and can modify them. The first parameter of an instance method is always self, which refers to the instance that the method is being called on.\n",
        "\n",
        "2. **Class methods**: These are methods that are defined on a class and can be called on the class itself. Class methods have access to the class variables but not the instance variables. The first parameter of a class method is always `cls`, which refers to the class that the method is being called on."
      ],
      "metadata": {
        "id": "5oAJ-4w76OFg"
      }
    },
    {
      "cell_type": "code",
      "source": [
        "class Person:\n",
        "    count = 0\n",
        "\n",
        "    def __init__(self, name):\n",
        "        self.name = name\n",
        "        Person.count += 1\n",
        "\n",
        "    @classmethod\n",
        "    def get_count(cls):\n",
        "        return cls.count\n"
      ],
      "metadata": {
        "id": "7rsG6o196jbo"
      },
      "execution_count": null,
      "outputs": []
    },
    {
      "cell_type": "code",
      "source": [
        "print(Person.get_count())  # Output: 0\n",
        "person1 = Person(\"Alice\")\n",
        "print(Person.get_count())  # Output: 1\n",
        "person2 = Person(\"Bob\")\n",
        "print(Person.get_count())  # Output: 2\n",
        "person3 = Person(\"John\")\n",
        "print(Person.get_count())"
      ],
      "metadata": {
        "colab": {
          "base_uri": "https://localhost:8080/"
        },
        "id": "ZBy9SBTt7THE",
        "outputId": "e8be2eaf-62ac-4961-8706-bcb4e3073775"
      },
      "execution_count": null,
      "outputs": [
        {
          "output_type": "stream",
          "name": "stdout",
          "text": [
            "0\n",
            "1\n",
            "2\n",
            "3\n"
          ]
        }
      ]
    },
    {
      "cell_type": "markdown",
      "metadata": {
        "id": "3_ZbRWDRUCEO"
      },
      "source": [
        "**Inheritance**\n",
        "\n",
        "Inheritance is a way of creating a new class for using details of an existing class without modifying it. The newly formed class is a derived class (or child class). Similarly, the existing class is a base class (or parent class)."
      ]
    },
    {
      "cell_type": "code",
      "execution_count": null,
      "metadata": {
        "id": "kC0GMS_zUCEO",
        "outputId": "43794d64-28a7-4660-b60d-6e2121f82253",
        "colab": {
          "base_uri": "https://localhost:8080/"
        }
      },
      "outputs": [
        {
          "output_type": "stream",
          "name": "stdout",
          "text": [
            "Bird is ready\n",
            "Penguin is ready\n",
            "Penguin\n",
            "Swim faster\n",
            "Run faster\n"
          ]
        }
      ],
      "source": [
        "# Use of Inheritance in Python\n",
        "# parent class / superclass / base class \n",
        "class Bird:\n",
        "    \n",
        "    def __init__(self):\n",
        "        print(\"Bird is ready\")\n",
        "\n",
        "    def whoisThis(self):\n",
        "        print(\"Bird\")\n",
        "\n",
        "    def swim(self):\n",
        "        print(\"Swim faster\")\n",
        "\n",
        "# child class\n",
        "class Penguin(Bird):\n",
        "\n",
        "    def __init__(self):\n",
        "        # call super() function\n",
        "        super().__init__()\n",
        "        print(\"Penguin is ready\")\n",
        "\n",
        "    def whoisThis(self):\n",
        "        print(\"Penguin\")\n",
        "\n",
        "    def run(self):\n",
        "        print(\"Run faster\")\n",
        "\n",
        "peggy = Penguin()\n",
        "peggy.whoisThis()\n",
        "peggy.swim()\n",
        "peggy.run()"
      ]
    },
    {
      "cell_type": "code",
      "source": [
        "class Animal:\n",
        "    def __init__(self, name):\n",
        "        self.name = name\n",
        "    \n",
        "    def speak(self):\n",
        "        print(f\"{self.name} makes a sound.\")\n",
        "\n",
        "class Dog(Animal):\n",
        "    def __init__(self, name, breed):\n",
        "        super().__init__(name)\n",
        "        self.breed = breed\n",
        "    \n",
        "    def speak(self):\n",
        "        super().speak()\n",
        "        print(f\"{self.name} barks.\")\n"
      ],
      "metadata": {
        "id": "1l62Iulk-E_h"
      },
      "execution_count": null,
      "outputs": []
    },
    {
      "cell_type": "code",
      "source": [
        "dog = Dog('Fido', 'Golden Retriever')\n",
        "dog.speak()"
      ],
      "metadata": {
        "colab": {
          "base_uri": "https://localhost:8080/"
        },
        "id": "_Kxkl3GS-3Jm",
        "outputId": "13383e88-1f81-4d33-e60a-88f5e66cff09"
      },
      "execution_count": null,
      "outputs": [
        {
          "output_type": "stream",
          "name": "stdout",
          "text": [
            "Fido makes a sound.\n",
            "Fido barks.\n"
          ]
        }
      ]
    },
    {
      "cell_type": "markdown",
      "metadata": {
        "id": "YewdSQ-4UCEO"
      },
      "source": [
        "**Encapsulation**\n",
        "\n",
        "Using OOP in Python, we can restrict access to methods and variables. This prevents data from direct modification which is called encapsulation. In Python, we denote private attributes using underscore as the prefix i.e single _ or double __."
      ]
    },
    {
      "cell_type": "code",
      "execution_count": null,
      "metadata": {
        "id": "VF7YnKjFUCEO",
        "outputId": "1c150a97-f092-4153-e205-ebb3e6dd059c",
        "colab": {
          "base_uri": "https://localhost:8080/"
        }
      },
      "outputs": [
        {
          "output_type": "stream",
          "name": "stdout",
          "text": [
            "Selling Price: 900\n",
            "Selling Price: 900\n",
            "Selling Price: 1500\n"
          ]
        }
      ],
      "source": [
        "# Data Encapsulation in Python\n",
        "class Computer:\n",
        "\n",
        "    def __init__(self):\n",
        "        self.__maxprice = 900\n",
        "\n",
        "    def sell(self):\n",
        "        print(\"Selling Price: {}\".format(self.__maxprice))\n",
        "\n",
        "    def setMaxPrice(self, price):\n",
        "        self.__maxprice = price\n",
        "\n",
        "c = Computer()\n",
        "c.sell()\n",
        "\n",
        "# change the price\n",
        "c.__maxprice = 1000\n",
        "c.sell()\n",
        "\n",
        "# using setter function\n",
        "c.setMaxPrice(1500)\n",
        "c.sell()"
      ]
    },
    {
      "cell_type": "code",
      "source": [
        "# Another example of encapsulation\n",
        "class BankAccount:\n",
        "    def __init__(self, account_number, balance):\n",
        "        self._account_number = account_number\n",
        "        self._balance = balance\n",
        "        \n",
        "    def get_account_number(self):\n",
        "        return self._account_number\n",
        "    \n",
        "    def get_balance(self):\n",
        "        return self._balance\n",
        "    \n",
        "    def deposit(self, amount):\n",
        "        self._balance += amount\n",
        "        \n",
        "    def withdraw(self, amount):\n",
        "        if self._balance >= amount:\n",
        "            self._balance -= amount\n",
        "        else:\n",
        "            print(\"Insufficient funds.\")\n"
      ],
      "metadata": {
        "id": "I4xA72IwAsh8"
      },
      "execution_count": null,
      "outputs": []
    },
    {
      "cell_type": "markdown",
      "metadata": {
        "id": "VrCh7RepUCEP"
      },
      "source": [
        "**Polymorphism**\n",
        "\n",
        "Polymorphism is an ability (in OOP) to use a common interface for multiple forms (data types).\n",
        "\n",
        "Suppose, we need to color a shape, there are multiple shape options (rectangle, square, circle). However we could use the same method to color any shape. This concept is called Polymorphism."
      ]
    },
    {
      "cell_type": "code",
      "execution_count": null,
      "metadata": {
        "id": "xn-e-lU_UCEP",
        "outputId": "b6d33b00-555d-42e6-8057-3dac896e273b",
        "colab": {
          "base_uri": "https://localhost:8080/"
        }
      },
      "outputs": [
        {
          "output_type": "stream",
          "name": "stdout",
          "text": [
            "Parrot can fly\n",
            "Penguin can't fly\n"
          ]
        }
      ],
      "source": [
        "# Using Polymorphism in Python\n",
        "class Parrot:\n",
        "\n",
        "    def fly(self):\n",
        "        print(\"Parrot can fly\")\n",
        "    \n",
        "    def swim(self):\n",
        "        print(\"Parrot can't swim\")\n",
        "\n",
        "class Penguin:\n",
        "\n",
        "    def fly(self):\n",
        "        print(\"Penguin can't fly\")\n",
        "    \n",
        "    def swim(self):\n",
        "        print(\"Penguin can swim\")\n",
        "\n",
        "# common interface\n",
        "def flying_test(bird):\n",
        "    bird.fly()\n",
        "\n",
        "#instantiate objects\n",
        "blu = Parrot()\n",
        "peggy = Penguin()\n",
        "\n",
        "# passing the object\n",
        "flying_test(blu)\n",
        "flying_test(peggy)"
      ]
    },
    {
      "cell_type": "code",
      "source": [
        "# Another example of polymorphism\n",
        "class Animal:\n",
        "    def __init__(self, name):\n",
        "        self.name = name\n",
        "    \n",
        "    def make_sound(self):\n",
        "        pass\n",
        "\n",
        "class Dog(Animal):\n",
        "    def make_sound(self):\n",
        "        print(self.name + \" barks\")\n",
        "\n",
        "class Cat(Animal):\n",
        "    def make_sound(self):\n",
        "        print(self.name + \" meows\")\n",
        "\n",
        "def animal_sounds(animals):\n",
        "    for animal in animals:\n",
        "        animal.make_sound()\n",
        "\n",
        "dog = Dog(\"Fido\")\n",
        "cat = Cat(\"Whiskers\")\n",
        "animals = [dog, cat]\n",
        "\n",
        "animal_sounds(animals)\n"
      ],
      "metadata": {
        "colab": {
          "base_uri": "https://localhost:8080/"
        },
        "id": "UegxXXmkCqYf",
        "outputId": "926ab014-83fb-43b9-f58c-08b6f19ac80b"
      },
      "execution_count": null,
      "outputs": [
        {
          "output_type": "stream",
          "name": "stdout",
          "text": [
            "Fido barks\n",
            "Whiskers meows\n"
          ]
        }
      ]
    },
    {
      "cell_type": "markdown",
      "metadata": {
        "id": "h0uRnb9JUCEP"
      },
      "source": [
        "**Key Points to Remember:**\n",
        "\n",
        "\n",
        "Object-Oriented Programming makes the program easy to understand as well as efficient.\n",
        "Since the class is sharable, the code can be reused.\n",
        "Data is safe and secure with data abstraction.\n",
        "Polymorphism allows the same interface for different objects, so programmers can write efficient code."
      ]
    },
    {
      "cell_type": "markdown",
      "metadata": {
        "id": "3p-nL4GeUCEP"
      },
      "source": [
        "**Python Objects and Classes**\n",
        "\n",
        "Python is an object oriented programming language. Unlike procedure oriented programming, where the main emphasis is on functions, object oriented programming stresses on objects.\n",
        "\n",
        "An object is simply a collection of data (variables) and methods (functions) that act on those data. Similarly, a class is a blueprint for that object.\n",
        "\n",
        "We can think of class as a sketch (prototype) of a house. It contains all the details about the floors, doors, windows etc. Based on these descriptions we build the house. House is the object.\n",
        "\n",
        "As many houses can be made from a house's blueprint, we can create many objects from a class. An object is also called an instance of a class and the process of creating this object is called instantiation."
      ]
    },
    {
      "cell_type": "markdown",
      "metadata": {
        "id": "lQaQgaArUCEP"
      },
      "source": [
        "**Defining a Class in Python**\n",
        "\n",
        "Like function definitions begin with the def keyword in Python, class definitions begin with a class keyword.\n",
        "\n",
        "The first string inside the class is called docstring and has a brief description about the class. Although not mandatory, this is highly recommended.\n",
        "\n",
        "Here is a simple class definition."
      ]
    },
    {
      "cell_type": "code",
      "execution_count": null,
      "metadata": {
        "id": "NppsJ2UyUCEP"
      },
      "outputs": [],
      "source": [
        "# Defining a class\n",
        "class MyNewClass:\n",
        "    '''This is a docstring. I have created a new class'''\n",
        "    pass"
      ]
    },
    {
      "cell_type": "markdown",
      "metadata": {
        "id": "lG0h4BSzUCEQ"
      },
      "source": [
        "A class creates a new local namespace where all its attributes are defined. Attributes may be data or functions.\n",
        "\n",
        "There are also special attributes in it that begins with double underscores __. For example, __doc__ gives us the docstring of that class.\n",
        "\n",
        "As soon as we define a class, a new class object is created with the same name. This class object allows us to access the different attributes as well as to instantiate new objects of that class."
      ]
    },
    {
      "cell_type": "code",
      "execution_count": null,
      "metadata": {
        "id": "tsT-7Uu5UCEQ",
        "outputId": "b103729d-a80b-43e0-912e-1e3ce7459b04"
      },
      "outputs": [
        {
          "name": "stdout",
          "output_type": "stream",
          "text": [
            "10\n",
            "<function Person.greet at 0x000001C153508168>\n",
            "This is a person class in this program\n"
          ]
        }
      ],
      "source": [
        "class Person:\n",
        "    \"This is a person class in this program\"\n",
        "    age = 10\n",
        "\n",
        "    def greet(self):\n",
        "        print('Hello')\n",
        "\n",
        "\n",
        "# Output: 10\n",
        "print(Person.age)\n",
        "# Output: <function Person.greet>\n",
        "print(Person.greet)\n",
        "\n",
        "# Output: 'This is my second class'\n",
        "print(Person.__doc__)"
      ]
    },
    {
      "cell_type": "markdown",
      "metadata": {
        "id": "h7W_oDQrUCEQ"
      },
      "source": [
        "**Creating an Object in Python**\n",
        "\n",
        "We saw that the class object could be used to access different attributes.\n",
        "\n",
        "It can also be used to create new object instances (instantiation) of that class. The procedure to create an object is similar to a function call."
      ]
    },
    {
      "cell_type": "code",
      "execution_count": null,
      "metadata": {
        "id": "UYHUO5UsUCEQ"
      },
      "outputs": [],
      "source": [
        "harry = Person()"
      ]
    },
    {
      "cell_type": "markdown",
      "metadata": {
        "id": "BoQ63qncUCEQ"
      },
      "source": [
        "This will create a new object instance named harry. We can access the attributes of objects using the object name prefix.\n",
        "\n",
        "Attributes may be data or method. Methods of an object are corresponding functions of that class.\n",
        "\n",
        "This means to say, since Person.greet is a function object (attribute of class), Person.greet will be a method object."
      ]
    },
    {
      "cell_type": "code",
      "execution_count": null,
      "metadata": {
        "id": "4H7mISODUCEQ",
        "outputId": "b981d886-3815-4e59-f6f5-89e929caf42d"
      },
      "outputs": [
        {
          "name": "stdout",
          "output_type": "stream",
          "text": [
            "<function Person.greet at 0x0000022877879A68>\n",
            "<bound method Person.greet of <__main__.Person object at 0x0000022877880F48>>\n",
            "Hello\n"
          ]
        }
      ],
      "source": [
        "class Person:\n",
        "    \"This is a person class\"\n",
        "    age = 10\n",
        "\n",
        "    def greet(self):\n",
        "        print('Hello')\n",
        "\n",
        "\n",
        "# create a new object of Person class\n",
        "harry = Person()\n",
        "\n",
        "# Output: <function Person.greet>\n",
        "print(Person.greet)\n",
        "\n",
        "# Output: <bound method Person.greet of <__main__.Person object>>\n",
        "print(harry.greet)\n",
        "\n",
        "# Calling object's greet() method\n",
        "# Output: Hello\n",
        "harry.greet()"
      ]
    },
    {
      "cell_type": "markdown",
      "metadata": {
        "id": "R7gSiLv6UCEQ"
      },
      "source": [
        "You may have noticed the self parameter in function definition inside the class but we called the method simply as harry.greet() without any arguments. It still worked.\n",
        "\n",
        "This is because, whenever an object calls its method, the object itself is passed as the first argument. So, harry.greet() translates into Person.greet(harry).\n",
        "\n",
        "In general, calling a method with a list of n arguments is equivalent to calling the corresponding function with an argument list that is created by inserting the method's object before the first argument.\n",
        "\n",
        "For these reasons, the first argument of the function in class must be the object itself. This is conventionally called self. It can be named otherwise but we highly recommend to follow the convention.\n",
        "\n",
        "Now you must be familiar with class object, instance object, function object, method object and their differences."
      ]
    },
    {
      "cell_type": "markdown",
      "metadata": {
        "id": "VqQt6k-NUCER"
      },
      "source": [
        "**Constructors in Python**\n",
        "\n",
        "Class functions that begin with double underscore __ are called special functions as they have special meaning.\n",
        "\n",
        "Of one particular interest is the __init__() function. This special function gets called whenever a new object of that class is instantiated.\n",
        "\n",
        "This type of function is also called constructors in Object Oriented Programming (OOP). We normally use it to initialize all the variables."
      ]
    },
    {
      "cell_type": "code",
      "execution_count": null,
      "metadata": {
        "id": "gnEN4t-zUCER",
        "outputId": "f4011398-2a79-4a61-852d-bf5160f9eff9",
        "colab": {
          "base_uri": "https://localhost:8080/",
          "height": 235
        }
      },
      "outputs": [
        {
          "output_type": "stream",
          "name": "stdout",
          "text": [
            "2+3j\n",
            "(5, 0, 10)\n"
          ]
        },
        {
          "output_type": "error",
          "ename": "AttributeError",
          "evalue": "ignored",
          "traceback": [
            "\u001b[0;31m---------------------------------------------------------------------------\u001b[0m",
            "\u001b[0;31mAttributeError\u001b[0m                            Traceback (most recent call last)",
            "\u001b[0;32m<ipython-input-21-afa66228e4bc>\u001b[0m in \u001b[0;36m<module>\u001b[0;34m\u001b[0m\n\u001b[1;32m     25\u001b[0m \u001b[0;31m# but c1 object doesn't have attribute 'attr'\u001b[0m\u001b[0;34m\u001b[0m\u001b[0;34m\u001b[0m\u001b[0;34m\u001b[0m\u001b[0m\n\u001b[1;32m     26\u001b[0m \u001b[0;31m# AttributeError: 'ComplexNumber' object has no attribute 'attr'\u001b[0m\u001b[0;34m\u001b[0m\u001b[0;34m\u001b[0m\u001b[0;34m\u001b[0m\u001b[0m\n\u001b[0;32m---> 27\u001b[0;31m \u001b[0mprint\u001b[0m\u001b[0;34m(\u001b[0m\u001b[0mnum1\u001b[0m\u001b[0;34m.\u001b[0m\u001b[0mattr\u001b[0m\u001b[0;34m)\u001b[0m\u001b[0;34m\u001b[0m\u001b[0;34m\u001b[0m\u001b[0m\n\u001b[0m",
            "\u001b[0;31mAttributeError\u001b[0m: 'ComplexNumber' object has no attribute 'attr'"
          ]
        }
      ],
      "source": [
        "class ComplexNumber:\n",
        "    def __init__(self, r=0, i=0):\n",
        "        self.real = r\n",
        "        self.imag = i\n",
        "\n",
        "    def get_data(self):\n",
        "        print(f'{self.real}+{self.imag}j')\n",
        "\n",
        "\n",
        "# Create a new ComplexNumber object\n",
        "num1 = ComplexNumber(2, 3)\n",
        "\n",
        "# Call get_data() method\n",
        "# Output: 2+3j\n",
        "num1.get_data()\n",
        "\n",
        "# Create another ComplexNumber object\n",
        "# and create a new attribute 'attr'\n",
        "num2 = ComplexNumber(5)\n",
        "num2.attr = 10\n",
        "\n",
        "# Output: (5, 0, 10)\n",
        "print((num2.real, num2.imag, num2.attr))\n",
        "\n",
        "# but c1 object doesn't have attribute 'attr'\n",
        "# AttributeError: 'ComplexNumber' object has no attribute 'attr'\n",
        "print(num1.attr)"
      ]
    },
    {
      "cell_type": "markdown",
      "metadata": {
        "id": "FlhramakUCER"
      },
      "source": [
        "In the above example, we defined a new class to represent complex numbers. It has two functions, __init__() to initialize the variables (defaults to zero) and get_data() to display the number properly.\n",
        "\n",
        "An interesting thing to note in the above step is that attributes of an object can be created on the fly. We created a new attribute attr for object num2 and read it as well. But this does not create that attribute for object num1."
      ]
    },
    {
      "cell_type": "markdown",
      "metadata": {
        "id": "eaPZcpgXUCER"
      },
      "source": [
        "**Deleting Attributes and Objects**\n",
        "\n",
        "Any attribute of an object can be deleted anytime, using the del statement. Try the following on the Python shell to see the output."
      ]
    },
    {
      "cell_type": "code",
      "execution_count": null,
      "metadata": {
        "id": "cSsq1e2KUCES",
        "outputId": "3a4e9236-5506-4953-cad9-161bd2d47d08"
      },
      "outputs": [
        {
          "data": {
            "text/plain": [
              "<__main__.ComplexNumber at 0x1c15350dd48>"
            ]
          },
          "execution_count": 17,
          "metadata": {},
          "output_type": "execute_result"
        }
      ],
      "source": [
        "num1 = ComplexNumber(2,3)\n",
        "num1"
      ]
    },
    {
      "cell_type": "code",
      "execution_count": null,
      "metadata": {
        "id": "yLFhNwawUCES"
      },
      "outputs": [],
      "source": [
        "del num1.imag"
      ]
    },
    {
      "cell_type": "code",
      "execution_count": null,
      "metadata": {
        "id": "bvDRW3CCUCES",
        "outputId": "a0b0b35b-390c-43cf-8907-5b4a7e5fc201"
      },
      "outputs": [
        {
          "ename": "AttributeError",
          "evalue": "'ComplexNumber' object has no attribute 'imag'",
          "output_type": "error",
          "traceback": [
            "\u001b[1;31m---------------------------------------------------------------------------\u001b[0m",
            "\u001b[1;31mAttributeError\u001b[0m                            Traceback (most recent call last)",
            "\u001b[1;32m<ipython-input-19-f79bd2a43995>\u001b[0m in \u001b[0;36m<module>\u001b[1;34m\u001b[0m\n\u001b[1;32m----> 1\u001b[1;33m \u001b[0mnum1\u001b[0m\u001b[1;33m.\u001b[0m\u001b[0mget_data\u001b[0m\u001b[1;33m(\u001b[0m\u001b[1;33m)\u001b[0m\u001b[1;33m\u001b[0m\u001b[1;33m\u001b[0m\u001b[0m\n\u001b[0m",
            "\u001b[1;32m<ipython-input-15-afa66228e4bc>\u001b[0m in \u001b[0;36mget_data\u001b[1;34m(self)\u001b[0m\n\u001b[0;32m      5\u001b[0m \u001b[1;33m\u001b[0m\u001b[0m\n\u001b[0;32m      6\u001b[0m     \u001b[1;32mdef\u001b[0m \u001b[0mget_data\u001b[0m\u001b[1;33m(\u001b[0m\u001b[0mself\u001b[0m\u001b[1;33m)\u001b[0m\u001b[1;33m:\u001b[0m\u001b[1;33m\u001b[0m\u001b[1;33m\u001b[0m\u001b[0m\n\u001b[1;32m----> 7\u001b[1;33m         \u001b[0mprint\u001b[0m\u001b[1;33m(\u001b[0m\u001b[1;34mf'{self.real}+{self.imag}j'\u001b[0m\u001b[1;33m)\u001b[0m\u001b[1;33m\u001b[0m\u001b[1;33m\u001b[0m\u001b[0m\n\u001b[0m\u001b[0;32m      8\u001b[0m \u001b[1;33m\u001b[0m\u001b[0m\n\u001b[0;32m      9\u001b[0m \u001b[1;33m\u001b[0m\u001b[0m\n",
            "\u001b[1;31mAttributeError\u001b[0m: 'ComplexNumber' object has no attribute 'imag'"
          ]
        }
      ],
      "source": [
        "num1.get_data()"
      ]
    },
    {
      "cell_type": "code",
      "execution_count": null,
      "metadata": {
        "id": "oW_XGp8_UCES"
      },
      "outputs": [],
      "source": [
        "del ComplexNumber.get_data"
      ]
    },
    {
      "cell_type": "code",
      "execution_count": null,
      "metadata": {
        "id": "OGEGNt6rUCES",
        "outputId": "0e1a13fe-648a-4556-e0fa-950fa900d489"
      },
      "outputs": [
        {
          "ename": "AttributeError",
          "evalue": "'ComplexNumber' object has no attribute 'get_data'",
          "output_type": "error",
          "traceback": [
            "\u001b[1;31m---------------------------------------------------------------------------\u001b[0m",
            "\u001b[1;31mAttributeError\u001b[0m                            Traceback (most recent call last)",
            "\u001b[1;32m<ipython-input-21-f79bd2a43995>\u001b[0m in \u001b[0;36m<module>\u001b[1;34m\u001b[0m\n\u001b[1;32m----> 1\u001b[1;33m \u001b[0mnum1\u001b[0m\u001b[1;33m.\u001b[0m\u001b[0mget_data\u001b[0m\u001b[1;33m(\u001b[0m\u001b[1;33m)\u001b[0m\u001b[1;33m\u001b[0m\u001b[1;33m\u001b[0m\u001b[0m\n\u001b[0m",
            "\u001b[1;31mAttributeError\u001b[0m: 'ComplexNumber' object has no attribute 'get_data'"
          ]
        }
      ],
      "source": [
        "num1.get_data()"
      ]
    },
    {
      "cell_type": "markdown",
      "metadata": {
        "id": "PK4d5uDnUCES"
      },
      "source": [
        "We can even delete the object itself, using the del statement."
      ]
    },
    {
      "cell_type": "code",
      "execution_count": null,
      "metadata": {
        "id": "jp9o9ODuUCES",
        "outputId": "e7e2b90a-9ed1-417f-ff55-c962d32996a8"
      },
      "outputs": [
        {
          "data": {
            "text/plain": [
              "<__main__.ComplexNumber at 0x1c1535173c8>"
            ]
          },
          "execution_count": 26,
          "metadata": {},
          "output_type": "execute_result"
        }
      ],
      "source": [
        "c1 = ComplexNumber(1,3)\n",
        "c1"
      ]
    },
    {
      "cell_type": "code",
      "execution_count": null,
      "metadata": {
        "id": "O51dVf78UCES",
        "outputId": "21d229a1-6caf-41a0-d9df-e42722048c1c"
      },
      "outputs": [
        {
          "name": "stdout",
          "output_type": "stream",
          "text": [
            "1+3j\n"
          ]
        }
      ],
      "source": [
        "c1.get_data()"
      ]
    },
    {
      "cell_type": "code",
      "execution_count": null,
      "metadata": {
        "id": "EIX8S8F3UCET"
      },
      "outputs": [],
      "source": [
        "del c1"
      ]
    },
    {
      "cell_type": "code",
      "execution_count": null,
      "metadata": {
        "id": "uLhwpk4dUCET",
        "outputId": "5aa44cbe-675e-4713-82b8-44a8f05fda05"
      },
      "outputs": [
        {
          "ename": "NameError",
          "evalue": "name 'c1' is not defined",
          "output_type": "error",
          "traceback": [
            "\u001b[1;31m---------------------------------------------------------------------------\u001b[0m",
            "\u001b[1;31mNameError\u001b[0m                                 Traceback (most recent call last)",
            "\u001b[1;32m<ipython-input-29-5348681b35c2>\u001b[0m in \u001b[0;36m<module>\u001b[1;34m\u001b[0m\n\u001b[1;32m----> 1\u001b[1;33m \u001b[0mc1\u001b[0m\u001b[1;33m\u001b[0m\u001b[1;33m\u001b[0m\u001b[0m\n\u001b[0m",
            "\u001b[1;31mNameError\u001b[0m: name 'c1' is not defined"
          ]
        }
      ],
      "source": [
        "c1"
      ]
    },
    {
      "cell_type": "markdown",
      "metadata": {
        "id": "eSv0nwtfUCET"
      },
      "source": [
        "Actually, it is more complicated than that. When we do c1 = ComplexNumber(1,3), a new instance object is created in memory and the name c1 binds with it.\n",
        "\n",
        "On the command del c1, this binding is removed and the name c1 is deleted from the corresponding namespace. The object however continues to exist in memory and if no other name is bound to it, it is later automatically destroyed.\n",
        "\n",
        "This automatic destruction of unreferenced objects in Python is also called garbage collection."
      ]
    },
    {
      "cell_type": "markdown",
      "metadata": {
        "id": "CRSDwyIpUCET"
      },
      "source": [
        "**Inheritance in Python**\n",
        "\n",
        "Inheritance is a powerful feature in object oriented programming.\n",
        "\n",
        "It refers to defining a new class with little or no modification to an existing class. The new class is called derived (or child) class and the one from which it inherits is called the base (or parent) class.\n",
        "\n",
        "Python Inheritance Syntax"
      ]
    },
    {
      "cell_type": "code",
      "execution_count": null,
      "metadata": {
        "id": "BSafVDbrUCET",
        "outputId": "797622f1-bbc2-473e-9d5f-bc6b7c869618"
      },
      "outputs": [
        {
          "ename": "SyntaxError",
          "evalue": "invalid syntax (<ipython-input-19-475efa92ea6b>, line 2)",
          "output_type": "error",
          "traceback": [
            "\u001b[1;36m  File \u001b[1;32m\"<ipython-input-19-475efa92ea6b>\"\u001b[1;36m, line \u001b[1;32m2\u001b[0m\n\u001b[1;33m    Body of base class\u001b[0m\n\u001b[1;37m          ^\u001b[0m\n\u001b[1;31mSyntaxError\u001b[0m\u001b[1;31m:\u001b[0m invalid syntax\n"
          ]
        }
      ],
      "source": [
        "class BaseClass:\n",
        "  Body of base class\n",
        "class DerivedClass(BaseClass):\n",
        "  Body of derived class"
      ]
    },
    {
      "cell_type": "markdown",
      "metadata": {
        "id": "ItwavOINUCET"
      },
      "source": [
        "Derived class inherits features from the base class where new features can be added to it. This results in re-usability of code.\n",
        "\n",
        "Example of Inheritance in Python\n",
        "To demonstrate the use of inheritance, let us take an example.\n",
        "\n",
        "A polygon is a closed figure with 3 or more sides. Say, we have a class called Polygon defined as follows."
      ]
    },
    {
      "cell_type": "code",
      "execution_count": null,
      "metadata": {
        "id": "DyqmeRTSUCET"
      },
      "outputs": [],
      "source": [
        "class Polygon:\n",
        "    def __init__(self, no_of_sides):\n",
        "        self.n = no_of_sides\n",
        "        self.sides = [0 for i in range(no_of_sides)]\n",
        "\n",
        "    def inputSides(self):\n",
        "        self.sides = [float(input(\"Enter side \"+str(i+1)+\" : \")) for i in range(self.n)]\n",
        "\n",
        "    def dispSides(self):\n",
        "        for i in range(self.n):\n",
        "            print(\"Side\",i+1,\"is\",self.sides[i])"
      ]
    },
    {
      "cell_type": "markdown",
      "metadata": {
        "id": "Nwi1QQAUUCET"
      },
      "source": [
        "This class has data attributes to store the number of sides n and magnitude of each side as a list called sides.\n",
        "\n",
        "The inputSides() method takes in the magnitude of each side and dispSides() displays these side lengths.\n",
        "\n",
        "A triangle is a polygon with 3 sides. So, we can create a class called Triangle which inherits from Polygon. This makes all the attributes of Polygon class available to the Triangle class.\n",
        "\n",
        "We don't need to define them again (code reusability). Triangle can be defined as follows."
      ]
    },
    {
      "cell_type": "code",
      "execution_count": null,
      "metadata": {
        "id": "vdSaD_bcUCET",
        "outputId": "07a1d944-7a5f-4412-c740-f5fe6c8c8bdf",
        "colab": {
          "base_uri": "https://localhost:8080/"
        }
      },
      "outputs": [
        {
          "output_type": "execute_result",
          "data": {
            "text/plain": [
              "[__main__.Polygon, object]"
            ]
          },
          "metadata": {},
          "execution_count": 23
        }
      ],
      "source": [
        "Polygon.mro()"
      ]
    },
    {
      "cell_type": "code",
      "execution_count": null,
      "metadata": {
        "id": "CJZ2XDSKUCEU",
        "outputId": "328f58ac-1d3c-42a9-e1af-1c1738076060",
        "colab": {
          "base_uri": "https://localhost:8080/"
        }
      },
      "outputs": [
        {
          "output_type": "execute_result",
          "data": {
            "text/plain": [
              "[__main__.Triangle, __main__.Polygon, object]"
            ]
          },
          "metadata": {},
          "execution_count": 26
        }
      ],
      "source": [
        "Triangle.mro()"
      ]
    },
    {
      "cell_type": "code",
      "execution_count": null,
      "metadata": {
        "id": "Fp8TH9_rUCEU"
      },
      "outputs": [],
      "source": [
        "class Triangle(Polygon):\n",
        "    def __init__(self):\n",
        "        Polygon.__init__(self,3)\n",
        "        \n",
        "\n",
        "    def findArea(self):\n",
        "        a, b, c = self.sides\n",
        "        # calculate the semi-perimeter\n",
        "        s = (a + b + c) / 2\n",
        "        area = (s*(s-a)*(s-b)*(s-c)) ** 0.5\n",
        "        print('The area of the triangle is %0.2f' %area)"
      ]
    },
    {
      "cell_type": "markdown",
      "metadata": {
        "id": "EXcoBPJ5UCEU"
      },
      "source": [
        "However, class Triangle has a new method findArea() to find and print the area of the triangle. Here is a sample run."
      ]
    },
    {
      "cell_type": "code",
      "execution_count": null,
      "metadata": {
        "id": "1WJdnqQzUCEU",
        "outputId": "e120bf2a-a303-440e-fbeb-658fe47d81ff",
        "colab": {
          "base_uri": "https://localhost:8080/"
        }
      },
      "outputs": [
        {
          "output_type": "execute_result",
          "data": {
            "text/plain": [
              "<__main__.Triangle at 0x7f857c3c04c0>"
            ]
          },
          "metadata": {},
          "execution_count": 27
        }
      ],
      "source": [
        "t = Triangle()\n",
        "t"
      ]
    },
    {
      "cell_type": "code",
      "execution_count": null,
      "metadata": {
        "id": "RHKaC6H0UCEU",
        "outputId": "b08f03fc-d9fb-484e-eeeb-1af5d6e69b31",
        "colab": {
          "base_uri": "https://localhost:8080/"
        }
      },
      "outputs": [
        {
          "name": "stdout",
          "output_type": "stream",
          "text": [
            "Enter side 1 : 3\n",
            "Enter side 2 : 6\n",
            "Enter side 3 : 8\n"
          ]
        }
      ],
      "source": [
        "t.inputSides()"
      ]
    },
    {
      "cell_type": "code",
      "execution_count": null,
      "metadata": {
        "id": "cN0zeZc5UCEU",
        "outputId": "c8e3651e-0360-4035-9203-945e7a4c6b6c",
        "colab": {
          "base_uri": "https://localhost:8080/"
        }
      },
      "outputs": [
        {
          "output_type": "stream",
          "name": "stdout",
          "text": [
            "Side 1 is 3.0\n",
            "Side 2 is 6.0\n",
            "Side 3 is 8.0\n"
          ]
        }
      ],
      "source": [
        "t.dispSides()"
      ]
    },
    {
      "cell_type": "code",
      "execution_count": null,
      "metadata": {
        "id": "-bgCds7-UCEU",
        "outputId": "f773cec6-c191-4d12-f7b1-18492d136931",
        "colab": {
          "base_uri": "https://localhost:8080/"
        }
      },
      "outputs": [
        {
          "output_type": "stream",
          "name": "stdout",
          "text": [
            "The area of the triangle is 7.64\n"
          ]
        }
      ],
      "source": [
        "t.findArea()"
      ]
    },
    {
      "cell_type": "markdown",
      "metadata": {
        "id": "znln3TeAUCEU"
      },
      "source": [
        "We can see that even though we did not define methods like inputSides() or dispSides() for class Triangle separately, we were able to use them.\n",
        "\n",
        "If an attribute is not found in the class itself, the search continues to the base class. This repeats recursively, if the base class is itself derived from other classes."
      ]
    },
    {
      "cell_type": "markdown",
      "metadata": {
        "id": "w6TDyBYlUCEU"
      },
      "source": [
        "**Method Overriding in Python**\n",
        "\n",
        "In the above example, notice that __init__() method was defined in both classes, Triangle as well Polygon. When this happens, the method in the derived class overrides that in the base class. This is to say, __init__() in Triangle gets preference over the __init__ in Polygon.\n",
        "\n",
        "Generally when overriding a base method, we tend to extend the definition rather than simply replace it. The same is being done by calling the method in base class from the one in derived class (calling Polygon.__init__() from __init__() in Triangle).\n",
        "\n",
        "A better option would be to use the built-in function super(). So, super().__init__(3) is equivalent to Polygon.__init__(self,3) and is preferred. To learn more about the super() function in Python, visit Python super() function.\n",
        "\n",
        "Two built-in functions isinstance() and issubclass() are used to check inheritances.\n",
        "\n",
        "The function isinstance() returns True if the object is an instance of the class or other classes derived from it. Each and every class in Python inherits from the base class object."
      ]
    },
    {
      "cell_type": "code",
      "execution_count": null,
      "metadata": {
        "id": "9yoarIMVUCEU",
        "outputId": "a5a658dd-7602-4b70-99ab-3970078ad2dd"
      },
      "outputs": [
        {
          "data": {
            "text/plain": [
              "True"
            ]
          },
          "execution_count": 36,
          "metadata": {},
          "output_type": "execute_result"
        }
      ],
      "source": [
        "isinstance(t,Triangle)"
      ]
    },
    {
      "cell_type": "code",
      "execution_count": null,
      "metadata": {
        "id": "jSBwhHOTUCEV",
        "outputId": "d790a45c-0d45-444c-fa2b-7b3c05719ec3"
      },
      "outputs": [
        {
          "data": {
            "text/plain": [
              "True"
            ]
          },
          "execution_count": 37,
          "metadata": {},
          "output_type": "execute_result"
        }
      ],
      "source": [
        "isinstance(t,Polygon)"
      ]
    },
    {
      "cell_type": "code",
      "execution_count": null,
      "metadata": {
        "id": "TfA2CqXxUCEV",
        "outputId": "09836b4f-53a5-4e12-ab97-b7f921ed6b96"
      },
      "outputs": [
        {
          "data": {
            "text/plain": [
              "False"
            ]
          },
          "execution_count": 38,
          "metadata": {},
          "output_type": "execute_result"
        }
      ],
      "source": [
        "isinstance(t,int)"
      ]
    },
    {
      "cell_type": "code",
      "execution_count": null,
      "metadata": {
        "id": "emvj_29oUCEV",
        "outputId": "62375169-7add-4a8b-ced9-66575a55d860"
      },
      "outputs": [
        {
          "data": {
            "text/plain": [
              "True"
            ]
          },
          "execution_count": 39,
          "metadata": {},
          "output_type": "execute_result"
        }
      ],
      "source": [
        "isinstance(t,object)"
      ]
    },
    {
      "cell_type": "markdown",
      "metadata": {
        "id": "9jYKxoupUCEV"
      },
      "source": [
        "Similarly, issubclass() is used to check for class inheritance."
      ]
    },
    {
      "cell_type": "code",
      "execution_count": null,
      "metadata": {
        "id": "AMPJGnLYUCEV",
        "outputId": "a6091f7e-9fae-4850-85df-990b54f98a53"
      },
      "outputs": [
        {
          "data": {
            "text/plain": [
              "False"
            ]
          },
          "execution_count": 30,
          "metadata": {},
          "output_type": "execute_result"
        }
      ],
      "source": [
        "issubclass(Polygon,Triangle)"
      ]
    },
    {
      "cell_type": "code",
      "execution_count": null,
      "metadata": {
        "id": "0rbWnUpWUCEV",
        "outputId": "47e0a2fa-4556-4e50-8dbd-2eb6690bcf46"
      },
      "outputs": [
        {
          "data": {
            "text/plain": [
              "True"
            ]
          },
          "execution_count": 31,
          "metadata": {},
          "output_type": "execute_result"
        }
      ],
      "source": [
        "issubclass(Triangle,Polygon)"
      ]
    },
    {
      "cell_type": "code",
      "execution_count": null,
      "metadata": {
        "id": "4LCLHPe0UCEV",
        "outputId": "8c9ac080-56e7-4417-8b4c-75302b17b4bd"
      },
      "outputs": [
        {
          "data": {
            "text/plain": [
              "True"
            ]
          },
          "execution_count": 32,
          "metadata": {},
          "output_type": "execute_result"
        }
      ],
      "source": [
        "issubclass(bool,int)"
      ]
    },
    {
      "cell_type": "markdown",
      "metadata": {
        "id": "7cGPD6zRUCEV"
      },
      "source": [
        "**Python Multiple Inheritance**\n",
        "\n",
        "A class can be derived from more than one base class in Python, similar to C++. This is called multiple inheritance.\n",
        "\n",
        "In multiple inheritance, the features of all the base classes are inherited into the derived class. The syntax for multiple inheritance is similar to single inheritance."
      ]
    },
    {
      "cell_type": "code",
      "execution_count": null,
      "metadata": {
        "id": "LpBKy1BCUCEV"
      },
      "outputs": [],
      "source": [
        "class Base1:\n",
        "    pass\n",
        "\n",
        "class Base2:\n",
        "    pass\n",
        "\n",
        "class MultiDerived(Base1, Base2):\n",
        "    pass\n",
        "\n",
        "#Here, the MultiDerived class is derived from Base1 and Base2 classes."
      ]
    },
    {
      "cell_type": "markdown",
      "metadata": {
        "id": "U1MURNceUCEV"
      },
      "source": [
        "**Python Multilevel Inheritance**\n",
        "\n",
        "We can also inherit from a derived class. This is called multilevel inheritance. It can be of any depth in Python.\n",
        "\n",
        "In multilevel inheritance, features of the base class and the derived class are inherited into the new derived class.\n",
        "\n",
        "An example with corresponding visualization is given below."
      ]
    },
    {
      "cell_type": "code",
      "execution_count": null,
      "metadata": {
        "id": "mdSFT3CEUCEV"
      },
      "outputs": [],
      "source": [
        "class Base:\n",
        "    pass\n",
        "\n",
        "class Derived1(Base):\n",
        "    pass\n",
        "\n",
        "class Derived2(Derived1):\n",
        "    pass"
      ]
    },
    {
      "cell_type": "markdown",
      "metadata": {
        "id": "9ldsJ4bWUCEV"
      },
      "source": [
        "Every class in Python is derived from the object class. It is the most base type in Python.\n",
        "\n",
        "So technically, all other classes, either built-in or user-defined, are derived classes and all objects are instances of the object class."
      ]
    },
    {
      "cell_type": "code",
      "execution_count": null,
      "metadata": {
        "id": "ffeLQG4vUCEW",
        "outputId": "0c425efe-ea35-4b66-b953-4d4c7df5d6cb"
      },
      "outputs": [
        {
          "name": "stdout",
          "output_type": "stream",
          "text": [
            "True\n",
            "True\n",
            "True\n"
          ]
        }
      ],
      "source": [
        "# Output: True\n",
        "print(issubclass(list,object))\n",
        "\n",
        "# Output: True\n",
        "print(isinstance(5.5,object))\n",
        "\n",
        "# Output: True\n",
        "print(isinstance(\"Hello\",object))"
      ]
    },
    {
      "cell_type": "markdown",
      "metadata": {
        "id": "0TIUeUf_UCEW"
      },
      "source": [
        "In the multiple inheritance scenario, any specified attribute is searched first in the current class. If not found, the search continues into parent classes in depth-first, left-right fashion without searching the same class twice.\n",
        "\n",
        "So, in the above example of MultiDerived class the search order is [MultiDerived, Base1, Base2, object]. This order is also called linearization of MultiDerived class and the set of rules used to find this order is called Method Resolution Order (MRO).\n",
        "\n",
        "MRO must prevent local precedence ordering and also provide monotonicity. It ensures that a class always appears before its parents. In case of multiple parents, the order is the same as tuples of base classes.\n",
        "\n",
        "MRO of a class can be viewed as the __mro__ attribute or the mro() method. The former returns a tuple while the latter returns a list."
      ]
    },
    {
      "cell_type": "code",
      "execution_count": null,
      "metadata": {
        "id": "9PR-2PvxUCEW",
        "outputId": "b558e2e7-35f0-4c95-a7ac-8c9897b49716"
      },
      "outputs": [
        {
          "data": {
            "text/plain": [
              "(__main__.MultiDerived, __main__.Base1, __main__.Base2, object)"
            ]
          },
          "execution_count": 36,
          "metadata": {},
          "output_type": "execute_result"
        }
      ],
      "source": [
        "MultiDerived.__mro__"
      ]
    },
    {
      "cell_type": "code",
      "execution_count": null,
      "metadata": {
        "id": "RaHUHGFPUCEW",
        "outputId": "a959447c-a4dd-4a2b-f507-4868dd51bc5b"
      },
      "outputs": [
        {
          "data": {
            "text/plain": [
              "[__main__.MultiDerived, __main__.Base1, __main__.Base2, object]"
            ]
          },
          "execution_count": 37,
          "metadata": {},
          "output_type": "execute_result"
        }
      ],
      "source": [
        "MultiDerived.mro()"
      ]
    }
  ],
  "metadata": {
    "kernelspec": {
      "display_name": "Python 3",
      "language": "python",
      "name": "python3"
    },
    "language_info": {
      "codemirror_mode": {
        "name": "ipython",
        "version": 3
      },
      "file_extension": ".py",
      "mimetype": "text/x-python",
      "name": "python",
      "nbconvert_exporter": "python",
      "pygments_lexer": "ipython3",
      "version": "3.7.7"
    },
    "colab": {
      "provenance": []
    }
  },
  "nbformat": 4,
  "nbformat_minor": 0
}